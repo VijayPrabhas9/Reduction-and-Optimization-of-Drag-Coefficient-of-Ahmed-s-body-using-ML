{
 "cells": [
  {
   "cell_type": "code",
   "execution_count": 2,
   "id": "b238babe",
   "metadata": {},
   "outputs": [],
   "source": [
    "import numpy as np\n",
    "import pandas as pd\n",
    "from sklearn.linear_model import LinearRegression\n",
    "from scipy.optimize import minimize"
   ]
  },
  {
   "cell_type": "code",
   "execution_count": 3,
   "id": "37c3a12f",
   "metadata": {},
   "outputs": [],
   "source": [
    "# Sample data\n",
    "df =  pd.read_csv('parameter_Data.csv') # Input feature 1\n"
   ]
  },
  {
   "cell_type": "code",
   "execution_count": 4,
   "id": "24d0511a",
   "metadata": {},
   "outputs": [],
   "source": [
    "X1 = df['rear']"
   ]
  },
  {
   "cell_type": "code",
   "execution_count": 5,
   "id": "abbcc06f",
   "metadata": {},
   "outputs": [],
   "source": [
    "X2 = df['front']"
   ]
  },
  {
   "cell_type": "code",
   "execution_count": 6,
   "id": "17a4413e",
   "metadata": {},
   "outputs": [],
   "source": [
    "y = df['Cd'].values"
   ]
  },
  {
   "cell_type": "code",
   "execution_count": 7,
   "id": "69e705c5",
   "metadata": {},
   "outputs": [],
   "source": [
    "X = df[['rear','front']].values"
   ]
  },
  {
   "cell_type": "code",
   "execution_count": 8,
   "id": "85b1ac09",
   "metadata": {},
   "outputs": [],
   "source": [
    "# Create a linear regression model\n",
    "model = LinearRegression()\n"
   ]
  },
  {
   "cell_type": "code",
   "execution_count": 9,
   "id": "83a80089",
   "metadata": {},
   "outputs": [],
   "source": [
    "## function to minimize the SSE\n",
    "def objective(par):\n",
    "    model.coef_ = par[:2]\n",
    "    model.intercept_ = par[2]\n",
    "    predictions = model.predict(X)\n",
    "    SSE = np.mean((predictions - y) ** 2)\n",
    "    return SSE"
   ]
  },
  {
   "cell_type": "code",
   "execution_count": 10,
   "id": "de66ed46",
   "metadata": {},
   "outputs": [],
   "source": [
    "# Initial guess for parameters (coefficients and intercept)\n",
    "initial_par = np.zeros(3)\n"
   ]
  },
  {
   "cell_type": "code",
   "execution_count": 11,
   "id": "62d4d6eb",
   "metadata": {},
   "outputs": [
    {
     "data": {
      "text/plain": [
       "array([0., 0., 0.])"
      ]
     },
     "execution_count": 11,
     "metadata": {},
     "output_type": "execute_result"
    }
   ],
   "source": [
    "initial_par"
   ]
  },
  {
   "cell_type": "code",
   "execution_count": 12,
   "id": "2d68045d",
   "metadata": {},
   "outputs": [],
   "source": [
    "## target value for optimization\n",
    "target_value = 0.01\n"
   ]
  },
  {
   "cell_type": "code",
   "execution_count": 13,
   "id": "4d1b62ce",
   "metadata": {},
   "outputs": [],
   "source": [
    "# Use the minimize function from scipy to optimize the objective function\n",
    "result = minimize(objective, initial_par, bounds=[(-20, 20)] * 3, tol=target_value)\n"
   ]
  },
  {
   "cell_type": "code",
   "execution_count": 14,
   "id": "67594a0d",
   "metadata": {},
   "outputs": [],
   "source": [
    "# Get the optimized parameters\n",
    "optimized_par = result.x\n"
   ]
  },
  {
   "cell_type": "code",
   "execution_count": 18,
   "id": "568d81f9",
   "metadata": {},
   "outputs": [
    {
     "data": {
      "text/plain": [
       "array([5.52091352e-03, 1.90061055e-05, 1.75140852e-04])"
      ]
     },
     "execution_count": 18,
     "metadata": {},
     "output_type": "execute_result"
    }
   ],
   "source": [
    "optimized_par"
   ]
  },
  {
   "cell_type": "code",
   "execution_count": 15,
   "id": "47875dbd",
   "metadata": {},
   "outputs": [],
   "source": [
    "# Set the model's parameters to the optimized values\n",
    "model.coef_ = optimized_par[:2]\n",
    "model.intercept_ = optimized_par[2]\n"
   ]
  },
  {
   "cell_type": "code",
   "execution_count": 19,
   "id": "59c7846f",
   "metadata": {},
   "outputs": [],
   "source": [
    "# Make predictions with the optimized model\n",
    "new_data = np.array([[29.47665,0.091911]])  # New input data for prediction\n",
    "optimized_prediction = model.predict(new_data)"
   ]
  },
  {
   "cell_type": "code",
   "execution_count": 20,
   "id": "8abdba0e",
   "metadata": {},
   "outputs": [
    {
     "name": "stdout",
     "output_type": "stream",
     "text": [
      "Optimized Coefficients: [5.52091352e-03 1.90061055e-05]\n",
      "Optimized Intercept: 0.00017514085169603182\n",
      "Optimized Prediction: [0.16291492]\n"
     ]
    }
   ],
   "source": [
    "print(\"Optimized Coefficients:\", model.coef_)\n",
    "print(\"Optimized Intercept:\", model.intercept_)\n",
    "print(\"Optimized Prediction:\", optimized_prediction)\n"
   ]
  },
  {
   "cell_type": "code",
   "execution_count": null,
   "id": "e0a69907",
   "metadata": {},
   "outputs": [],
   "source": []
  }
 ],
 "metadata": {
  "kernelspec": {
   "display_name": "Python 3 (ipykernel)",
   "language": "python",
   "name": "python3"
  },
  "language_info": {
   "codemirror_mode": {
    "name": "ipython",
    "version": 3
   },
   "file_extension": ".py",
   "mimetype": "text/x-python",
   "name": "python",
   "nbconvert_exporter": "python",
   "pygments_lexer": "ipython3",
   "version": "3.10.9"
  }
 },
 "nbformat": 4,
 "nbformat_minor": 5
}
